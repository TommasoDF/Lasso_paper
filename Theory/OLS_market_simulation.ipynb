{
 "cells": [
  {
   "cell_type": "code",
   "execution_count": 2,
   "id": "de7d2002",
   "metadata": {},
   "outputs": [],
   "source": [
    "import numpy as np\n",
    "from scipy import stats\n",
    "import matplotlib.pyplot as plt"
   ]
  },
  {
   "cell_type": "markdown",
   "id": "5de1c44b",
   "metadata": {},
   "source": [
    "In our model, we introduce a forecasting agent who attempts to exploit a possible linear relationship between a stochastic signal $\\theta_t$ and asset returns $r_t$. The agent observes the entire history of returns and $\\theta$, but only uses the last $n$ observations to estimate a linear model via Ordinary Least Squares (OLS). Specifically, the agent runs the regression:\n",
    "\n",
    "$$\n",
    "r_t = \\beta \\theta_t + \\varepsilon_t\n",
    "$$\n",
    "\n",
    "If the estimated coefficient $\\hat{\\beta}$ is statistically significant at a chosen confidence level (e.g., 5%), the agent uses it to forecast the next-period price as:\n",
    "\n",
    "$$\n",
    "\\hat{p}_{t+1} = (1 + \\hat{\\beta} \\theta_t) \\cdot p_{t-1}\n",
    "$$\n",
    "\n",
    "However, if the relationship is deemed insignificant, the agent reverts to the forecast: $\\hat{p}_{t+1} = p_{t-1}$. Importantly the agent's behavior nests rational expectations. In the special case where $\\beta = 0$, meaning there is no predictive relationship between $\\theta$ and returns, the agent's forecast collapses to the rational expectations benchmark, where the expected future price is the current price.\n",
    "\n",
    "The reason why the agent uses $p_{t-1}$ in its prediction is that the current price $p_t$ is an endogenous quantity which is given by \n",
    "\n",
    "$$ p_t = \\hat{p}_{t+1} + \\eta_t $$\n"
   ]
  },
  {
   "cell_type": "markdown",
   "id": "b230878f",
   "metadata": {},
   "source": [
    "The simulation protocol is then the following:\n",
    "\n",
    "- We initialize the first 100 price realizations $(p_0 \\dots p_{99})$\n",
    "- We compute returns $(r_1 \\dots r_{99})$\n",
    "- We fit an OLS of returns on theta $(\\theta_0 \\dots \\theta_{98})$\n",
    "- We use theta_100 to predict r_101. This implies a resulting equilibrium price for $p_{100}$\n",
    "- We redo the same but starting from $p_1$ to $p_{100}$\n",
    "\n",
    "\n"
   ]
  },
  {
   "cell_type": "code",
   "execution_count": 3,
   "id": "fa4160c9",
   "metadata": {},
   "outputs": [],
   "source": [
    "class OLSAgent:\n",
    "    def __init__(self, n: int, alpha: float = 0.05):\n",
    "        self.n = n  # number of past observations to use\n",
    "        self.alpha = alpha  # significance level\n",
    "        self.signals_detected = 0  # count of detected signals\n",
    "\n",
    "\n",
    "    def predict_price(self, ret_history: np.ndarray, theta_history: np.ndarray, last_price: float) -> float:\n",
    "        \"\"\"\n",
    "        Predict next price based on OLS of past returns on theta.\n",
    "        \n",
    "        Parameters:\n",
    "            p_history (np.ndarray): historical prices (length T)\n",
    "            theta_history (np.ndarray): historical theta values (length T)\n",
    "            \n",
    "        Returns:\n",
    "            float: predicted price for next period\n",
    "        \"\"\"\n",
    "        T = len(ret_history)\n",
    "        if T < self.n + 1:\n",
    "            raise ValueError(f\"Not enough data. Require at least {self.n + 1} price points.\")\n",
    "\n",
    "        \n",
    "        # Select last n observations\n",
    "        X = theta_history[-self.n-1:-1]  # theta values\n",
    "        y = ret_history[-self.n-1:-1]  # returns\n",
    "\n",
    "        # Add intercept for OLS\n",
    "        X_mat = np.vstack([np.ones(self.n), X]).T\n",
    "\n",
    "        # OLS estimate: beta = (X'X)^{-1} X'y\n",
    "        beta_hat = np.linalg.lstsq(X_mat, y, rcond=None)[0]\n",
    "\n",
    "        # Compute standard errors\n",
    "        residuals = y - X_mat @ beta_hat\n",
    "        s2 = np.sum(residuals**2) / (self.n - 2)\n",
    "        cov_beta = s2 * np.linalg.inv(X_mat.T @ X_mat)\n",
    "        se_beta_1 = np.sqrt(cov_beta[1, 1])\n",
    "\n",
    "        # t-statistic for beta_1\n",
    "        t_stat = beta_hat[1] / se_beta_1\n",
    "        p_value = 2 * (1 - stats.t.cdf(np.abs(t_stat), df=self.n - 2))\n",
    "\n",
    "        theta_last = theta_history[-1]\n",
    "\n",
    "        # Predict next price\n",
    "        if p_value < self.alpha:\n",
    "            self.signals_detected += 1\n",
    "            return (1 + beta_hat[1] * theta_last) * last_price, beta_hat[1]\n",
    "        else:\n",
    "            return last_price, 0.0\n"
   ]
  },
  {
   "cell_type": "code",
   "execution_count": 4,
   "id": "5166f3ca",
   "metadata": {},
   "outputs": [],
   "source": [
    "class Market:\n",
    "    def __init__(self, T: int, agent: OLSAgent, sigma_noise: float, \n",
    "                 initial_price: float = 100.0, seed: int = None):\n",
    "        self.T = T\n",
    "        self.agent = agent\n",
    "        self.sigma_noise = sigma_noise\n",
    "        self.initial_price = initial_price #p0\n",
    "        self.seed = seed\n",
    "\n",
    "        if seed is not None:\n",
    "            np.random.seed(seed)\n",
    "        \n",
    "        # Generate i.i.d. theta process\n",
    "        self.theta = np.random.randn(T)\n",
    "\n",
    "        # Initialize price and return history\n",
    "        self.prices = [initial_price] # p0\n",
    "        self.returns = []\n",
    "        self.beta_history = []\n",
    "\n",
    "    def run_simulation(self):\n",
    "        for t in range(self.T):\n",
    "            if len(self.returns) < self.agent.n + 1:\n",
    "                # Not enough data yet: assume price stays constant\n",
    "                predicted_price = self.prices[-1] # p_t\n",
    "                beta_hat = 0.0\n",
    "            else:\n",
    "                predicted_price, beta_hat = self.agent.predict_price(\n",
    "                    np.array(self.returns),\n",
    "                    self.theta[:t],\n",
    "                    self.prices[-1]\n",
    "                )\n",
    "            self.beta_history.append(beta_hat)\n",
    "            # Add noise to predicted price\n",
    "            noise = np.random.normal(0, self.sigma_noise)\n",
    "            true_price = predicted_price + noise # compute p_t = p_hat + noise\n",
    "\n",
    "            # Compute return\n",
    "            last_price = self.prices[-1] # p_{t-1}\n",
    "            ret = (true_price - last_price) / last_price #r_t\n",
    "\n",
    "            # Update histories\n",
    "            self.prices.append(true_price)\n",
    "            self.returns.append(ret)\n",
    "\n",
    "        return np.array(self.returns)\n"
   ]
  },
  {
   "cell_type": "code",
   "execution_count": 25,
   "id": "e9d61b97",
   "metadata": {},
   "outputs": [],
   "source": [
    "# Initialize agent and market\n",
    "agent = OLSAgent(n=100, alpha=0.05)\n",
    "market = Market(T=1000, agent=agent, sigma_noise=10, initial_price=100, seed=43)\n",
    "\n",
    "# Run the simulation\n",
    "return_path = market.run_simulation()"
   ]
  },
  {
   "cell_type": "code",
   "execution_count": 26,
   "id": "bdb1ecbc",
   "metadata": {},
   "outputs": [
    {
     "name": "stdout",
     "output_type": "stream",
     "text": [
      "Number of signals detected: 51 out of 900\n",
      "Expected (approx): 45.0\n"
     ]
    }
   ],
   "source": [
    "#check the number of signals detected, it should be almost to alpha * (T - n)\n",
    "print(f\"Number of signals detected: {agent.signals_detected} out of {market.T - agent.n}\")\n",
    "print(f\"Expected (approx): {agent.alpha * (market.T - agent.n)}\")\n"
   ]
  }
 ],
 "metadata": {
  "kernelspec": {
   "display_name": ".venv",
   "language": "python",
   "name": "python3"
  },
  "language_info": {
   "codemirror_mode": {
    "name": "ipython",
    "version": 3
   },
   "file_extension": ".py",
   "mimetype": "text/x-python",
   "name": "python",
   "nbconvert_exporter": "python",
   "pygments_lexer": "ipython3",
   "version": "3.12.0"
  }
 },
 "nbformat": 4,
 "nbformat_minor": 5
}
